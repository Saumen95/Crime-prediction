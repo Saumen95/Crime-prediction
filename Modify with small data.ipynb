{
 "cells": [
  {
   "cell_type": "markdown",
   "metadata": {},
   "source": [
    "## Import modules"
   ]
  },
  {
   "cell_type": "code",
   "execution_count": null,
   "metadata": {
    "collapsed": true
   },
   "outputs": [],
   "source": [
    "import numpy as np\n",
    "import matplotlib.pyplot as plt\n",
    "import csv\n",
    "%matplotlib inline"
   ]
  },
  {
   "cell_type": "markdown",
   "metadata": {},
   "source": [
    "## Define Variables\n"
   ]
  },
  {
   "cell_type": "code",
   "execution_count": null,
   "metadata": {},
   "outputs": [],
   "source": [
    "INC_NUMBER=[]\n",
    "OCCURRED_ON=[]\n",
    "OCCURRED_TO=[]\n",
    "CRIME_CATEGORY=[]\n",
    "BLOCK_ADDR=[]\n",
    "PREMISE_TYPE=[]\n"
   ]
  },
  {
   "cell_type": "markdown",
   "metadata": {},
   "source": [
    "## Open csv and save data"
   ]
  },
  {
   "cell_type": "code",
   "execution_count": null,
   "metadata": {},
   "outputs": [],
   "source": [
    "with open('testData','r') as csvfile:\n",
    "    plots=csv.reader(csvfile,delimiter=',')\n",
    "    for row in plots:\n",
    "        INC_NUMBER.append(str(row[0]))\n",
    "        OCCURRED_ON.append(str(row[1]))\n",
    "        OCCURRED_TO.append(str(row[2]))\n",
    "        CRIME_CATEGORY.append(str(row[3]))\n",
    "        BLOCK_ADDR.append(str(row[4]))\n",
    "        PREMISE_TYPE.append(str(row[6]))"
   ]
  },
  {
   "cell_type": "markdown",
   "metadata": {},
   "source": [
    "## Find The Crime Years"
   ]
  },
  {
   "cell_type": "code",
   "execution_count": null,
   "metadata": {},
   "outputs": [],
   "source": [
    "from collections import Counter\n",
    "\n",
    "crime_year=[]\n",
    "for i in INC_NUMBER:\n",
    "    if i in crime_year:\n",
    "        pass\n",
    "    else:\n",
    "        crime_year.append(i[0:4])\n",
    "\n",
    "by_year=Counter(crime_year[1:])\n",
    "print(by_year)\n",
    "plt.bar(range(len(by_year)), list(by_year.values()), align='center')\n",
    "plt.xticks(range(len(by_year)), list(by_year.keys()))\n",
    "\n"
   ]
  },
  {
   "cell_type": "markdown",
   "metadata": {},
   "source": [
    "## Find by crime category"
   ]
  },
  {
   "cell_type": "code",
   "execution_count": null,
   "metadata": {},
   "outputs": [],
   "source": [
    "by_category=Counter(CRIME_CATEGORY[1:])\n",
    "print(by_category)\n",
    "plt.bar(range(len(by_category)), list(by_category.values()), align='center')\n",
    "plt.xticks(range(len(by_category)), list(by_category.keys()))\n"
   ]
  },
  {
   "cell_type": "markdown",
   "metadata": {},
   "source": [
    "## Find by premise type"
   ]
  },
  {
   "cell_type": "code",
   "execution_count": null,
   "metadata": {},
   "outputs": [],
   "source": [
    "by_premiseType=Counter(PREMISE_TYPE[1:])\n",
    "print(by_premiseType)\n",
    "plt.bar(range(len(by_premiseType)), list(by_premiseType.values()), align='center')\n",
    "plt.xticks(range(len(by_premiseType)), list(by_premiseType.keys()))"
   ]
  },
  {
   "cell_type": "code",
   "execution_count": null,
   "metadata": {
    "collapsed": true
   },
   "outputs": [],
   "source": []
  }
 ],
 "metadata": {
  "kernelspec": {
   "display_name": "Python 3",
   "language": "python",
   "name": "python3"
  },
  "language_info": {
   "codemirror_mode": {
    "name": "ipython",
    "version": 3
   },
   "file_extension": ".py",
   "mimetype": "text/x-python",
   "name": "python",
   "nbconvert_exporter": "python",
   "pygments_lexer": "ipython3",
   "version": "3.5.0"
  }
 },
 "nbformat": 4,
 "nbformat_minor": 2
}
